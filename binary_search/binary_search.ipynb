{
 "cells": [
  {
   "cell_type": "markdown",
   "id": "11920fb1",
   "metadata": {},
   "source": [
    "## Imports"
   ]
  },
  {
   "cell_type": "code",
   "execution_count": null,
   "id": "7c2fe500",
   "metadata": {},
   "outputs": [],
   "source": [
    "import struct"
   ]
  },
  {
   "cell_type": "markdown",
   "id": "b7e94c2a",
   "metadata": {},
   "source": [
    "## Opening file for first time to set variables"
   ]
  },
  {
   "cell_type": "code",
   "execution_count": null,
   "id": "1e1d6821",
   "metadata": {},
   "outputs": [],
   "source": [
    "registroCEP = struct.Struct(\"72s72s72s72s2s8s2s\")\n",
    "\n",
    "with open(\"cep_ordenado.dat\") as file:\n",
    "\n",
    "    line_size = registroCEP.size\n",
    "    line_content_init = []\n",
    "    line_content_final = []\n",
    "    cep_init = []\n",
    "    cep_final = []\n",
    "    \n",
    "    #CEP in initial position\n",
    "    pos_init = file.seek(0, 0)\n",
    "    line_content_init = file.readline()\n",
    "    cep_init = line_content_init[-10:-2]\n",
    "\n",
    "    \n",
    "    #CEP in final position\n",
    "    pos_final = file.seek(0, 2)\n",
    "    file.seek(pos_final - line_size, 0)\n",
    "    line_content_final = file.readline()\n",
    "    cep_final = line_content_final[-10:-2]\n",
    "    \n",
    "    \n",
    "    print(pos_init, pos_final)\n"
   ]
  },
  {
   "cell_type": "markdown",
   "id": "f728785d",
   "metadata": {},
   "source": [
    "## Binary Search"
   ]
  },
  {
   "cell_type": "code",
   "execution_count": null,
   "id": "cac3dc47",
   "metadata": {},
   "outputs": [],
   "source": [
    "def binary_search(query, pos_i, pos_f):\n",
    "    registroCEP = struct.Struct(\"72s72s72s72s2s8s2s\")\n",
    "\n",
    "    with open(\"cep_ordenado.dat\") as file:\n",
    "\n",
    "        #CEP in initial position\n",
    "        pos_init = file.seek(pos_i, 0)\n",
    "        line_content_init = file.readline()\n",
    "        cep_init = line_content_init[-10:-2]\n",
    "\n",
    "\n",
    "        #CEP in final position\n",
    "        pos_final = file.seek(pos_f, 0)\n",
    "        file.seek(pos_final, 0)\n",
    "        line_content_final = file.readline()\n",
    "        cep_final = line_content_final[-10:-2]\n",
    "        \n",
    "        \n",
    "        pos_mid = round((pos_init + pos_final)/2)\n",
    "        file.seek(pos_mid, 0)\n",
    "        line_content_mid = file.readline()\n",
    "        cep_mid = line_content_mid[-10:-2]\n",
    "        \n",
    "        print(pos_init, pos_final)\n",
    "\n",
    "        if query == cep_mid:\n",
    "            print(\"O CEP esta no Byte \"+ str(pos_mid))\n",
    "            return pos_mid\n",
    "\n",
    "        elif query < cep_mid:\n",
    "            return binary_search(query, pos_init, pos_mid)\n",
    "        elif query > cep_mid:\n",
    "            return binary_search(query, pos_mid, pos_final)\n"
   ]
  },
  {
   "cell_type": "code",
   "execution_count": null,
   "id": "314032dc",
   "metadata": {},
   "outputs": [],
   "source": [
    "search = binary_search('03978630', pos_init, pos_final)\n",
    "\n",
    "with open(\"cep_ordenado.dat\") as file:\n",
    "\n",
    "    pos_search = file.seek(search, 0)\n",
    "    line_content_search = file.readline()\n",
    "    cep_search = line_content_search[-12:-2]\n",
    "\n",
    "    print(cep_search)"
   ]
  },
  {
   "cell_type": "code",
   "execution_count": null,
   "id": "198aae01",
   "metadata": {},
   "outputs": [],
   "source": []
  }
 ],
 "metadata": {
  "kernelspec": {
   "display_name": "Python 3",
   "language": "python",
   "name": "python3"
  },
  "language_info": {
   "codemirror_mode": {
    "name": "ipython",
    "version": 3
   },
   "file_extension": ".py",
   "mimetype": "text/x-python",
   "name": "python",
   "nbconvert_exporter": "python",
   "pygments_lexer": "ipython3",
   "version": "3.8.8"
  }
 },
 "nbformat": 4,
 "nbformat_minor": 5
}
